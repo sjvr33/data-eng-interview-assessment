{
 "cells": [
  {
   "cell_type": "code",
   "execution_count": null,
   "metadata": {
    "vscode": {
     "languageId": "plaintext"
    }
   },
   "outputs": [],
   "source": [
    "import pandas as pd\n",
    "import pyspark\n",
    "from pyspark.sql import SparkSession\n",
    "\n",
    "# Start Spark session\n",
    "spark = SparkSession.builder.appName(\"InterviewApp\").getOrCreate()\n",
    "\n",
    "# Example DataFrame\n",
    "df = spark.createDataFrame([\n",
    "    (1, \"Alice\", 100),\n",
    "    (2, \"Bob\", 200)\n",
    "], [\"id\", \"name\", \"amount\"])\n",
    "\n",
    "df.show()"
   ]
  }
 ],
 "metadata": {
  "language_info": {
   "name": "python"
  }
 },
 "nbformat": 4,
 "nbformat_minor": 2
}
