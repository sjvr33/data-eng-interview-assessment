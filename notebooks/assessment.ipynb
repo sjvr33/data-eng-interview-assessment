{
 "cells": [
  {
   "cell_type": "markdown",
   "metadata": {},
   "source": [
    "# Data Engineering Interview Exercise Notebook\n",
    " \n",
    "---\n",
    " \n",
    "## 📖 Scenario\n",
    " \n",
    "You are a Data Engineer at an international e-commerce company. Your task is to build a data pipeline that processes daily transaction data, enriches it with customer information, and produces an aggregated report to identify top-spending customers.\n",
    " \n",
    "You have been provided with two CSV files:\n",
    "- `transactions.csv`: Transaction details (transaction_id, customer_id, product_id, quantity, price, date).\n",
    "- `customers.csv`: Customer details (customer_id, name, email, join_date).\n",
    " \n",
    "---"
   ]
  },
  {
   "cell_type": "markdown",
   "metadata": {},
   "source": [
    "## 🛠️ Step-by-Step Instructions\n",
    " \n",
    "Complete each step below. You may choose either Pandas or PySpark for this exercise.\n",
    " \n",
    "### ⚙️ Step 1: Data Ingestion\n",
    "- Load both CSV files into DataFrames.\n",
    " \n",
    "**Hint**: \n",
    "- Pandas: `pd.read_csv()`\n",
    "- PySpark: `spark.read.csv()`"
   ]
  },
  {
   "cell_type": "code",
   "execution_count": null,
   "metadata": {},
   "outputs": [],
   "source": [
    "# Import for Pandas users\n",
    "import pandas as pd"
   ]
  },
  {
   "cell_type": "code",
   "execution_count": null,
   "metadata": {},
   "outputs": [],
   "source": [
    "# Imports for PySpark users\n",
    "from pyspark.sql import SparkSession\n",
    "from pyspark.sql.functions import col, sum\n",
    "\n",
    "spark = SparkSession.builder.appName(\"EcommerceETL\")"
   ]
  },
  {
   "cell_type": "code",
   "execution_count": null,
   "metadata": {},
   "outputs": [],
   "source": [
    "# Your code here"
   ]
  },
  {
   "cell_type": "markdown",
   "metadata": {},
   "source": [
    "### Check the output\n",
    " \n",
    "**Hint**: \n",
    "- Pandas: head\n",
    "- PySpark: show\n"
   ]
  },
  {
   "cell_type": "code",
   "execution_count": null,
   "metadata": {},
   "outputs": [],
   "source": [
    "# Your code here"
   ]
  },
  {
   "cell_type": "markdown",
   "metadata": {},
   "source": [
    "### 🧹 Step 2: Data Cleaning\n",
    "- Remove duplicates from both datasets.\n",
    " \n",
    "**Hint**: \n",
    "- Pandas: `drop_duplicates()`\n",
    "- PySpark: `dropDuplicates()`"
   ]
  },
  {
   "cell_type": "code",
   "execution_count": null,
   "metadata": {},
   "outputs": [],
   "source": [
    "# Your code here"
   ]
  },
  {
   "cell_type": "code",
   "execution_count": null,
   "metadata": {},
   "outputs": [],
   "source": []
  },
  {
   "cell_type": "markdown",
   "metadata": {},
   "source": [
    "### 🔗 Step 3: Data Joining\n",
    "- Join transaction data with customer data on `customer_id`.\n",
    " \n",
    "**Hint**:\n",
    "- Pandas: `merge()`\n",
    "- PySpark: `.join()`"
   ]
  },
  {
   "cell_type": "code",
   "execution_count": null,
   "metadata": {},
   "outputs": [],
   "source": [
    "# Your code here"
   ]
  },
  {
   "cell_type": "markdown",
   "metadata": {},
   "source": [
    "### 📊 Step 4: Data Aggregation\n",
    "- Calculate the total amount spent (`quantity * price`) per customer.\n",
    "- Find the top 5 customers based on total spending.\n",
    " \n",
    "**Hint**:\n",
    "- Pandas: Use `groupby()` and aggregate with `.sum()`\n",
    "- PySpark: Use `groupBy()` and aggregation functions (`sum()`)"
   ]
  },
  {
   "cell_type": "code",
   "execution_count": null,
   "metadata": {},
   "outputs": [],
   "source": [
    "# Your code here"
   ]
  },
  {
   "cell_type": "markdown",
   "metadata": {},
   "source": [
    "### 📁 Step 5: Export Results\n",
    "- Export the aggregated results as a CSV file named `top_customers.csv`.\n",
    " \n",
    "**Hint**:\n",
    "- Pandas: `to_csv()`\n",
    "- PySpark: `write.csv()`"
   ]
  },
  {
   "cell_type": "code",
   "execution_count": null,
   "metadata": {},
   "outputs": [],
   "source": [
    "# Your code here"
   ]
  },
  {
   "cell_type": "code",
   "execution_count": null,
   "metadata": {
    "vscode": {
     "languageId": "plaintext"
    }
   },
   "outputs": [],
   "source": []
  },
  {
   "cell_type": "code",
   "execution_count": null,
   "metadata": {
    "vscode": {
     "languageId": "plaintext"
    }
   },
   "outputs": [],
   "source": [
    "import pandas as pd\n",
    "import pyspark\n",
    "from pyspark.sql import SparkSession\n",
    "\n",
    "# Start Spark session\n",
    "spark = SparkSession.builder.appName(\"InterviewApp\").getOrCreate()\n",
    "\n",
    "# Example DataFrame\n",
    "df = spark.createDataFrame([\n",
    "    (1, \"Alice\", 100),\n",
    "    (2, \"Bob\", 200)\n",
    "], [\"id\", \"name\", \"amount\"])\n",
    "\n",
    "df.show()"
   ]
  }
 ],
 "metadata": {
  "language_info": {
   "name": "python"
  }
 },
 "nbformat": 4,
 "nbformat_minor": 2
}
